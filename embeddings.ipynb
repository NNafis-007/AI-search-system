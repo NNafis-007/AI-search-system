{
 "cells": [
  {
   "cell_type": "markdown",
   "id": "afef5644",
   "metadata": {},
   "source": [
    "# Text Embedding Models\n",
    "\n",
    "This notebook demonstrates how to use dense and sparse embedding models for text representation."
   ]
  },
  {
   "cell_type": "code",
   "execution_count": null,
   "id": "b000d103",
   "metadata": {},
   "outputs": [],
   "source": [
    "# Install required libraries\n",
    "%pip install fastembed numpy pandas"
   ]
  },
  {
   "cell_type": "code",
   "execution_count": null,
   "id": "7c24b462",
   "metadata": {},
   "outputs": [],
   "source": [
    "import numpy as np\n",
    "from fastembed import TextEmbedding, SparseTextEmbedding, SparseEmbedding"
   ]
  },
  {
   "cell_type": "markdown",
   "id": "3583900a",
   "metadata": {},
   "source": [
    "## Define Default Model Names\n",
    "\n",
    "We'll use the following models for our embeddings:"
   ]
  },
  {
   "cell_type": "code",
   "execution_count": null,
   "id": "6b979b89",
   "metadata": {},
   "outputs": [],
   "source": [
    "# Default model names\n",
    "SPARSE_MODEL_NAME = \"Qdrant/bm42-all-minilm-l6-v2-attentions\"\n",
    "DENSE_MODEL_NAME = \"sentence-transformers/all-MiniLM-L6-v2\""
   ]
  },
  {
   "cell_type": "markdown",
   "id": "6d21839a",
   "metadata": {},
   "source": [
    "## EmbeddingModels Class Definition\n",
    "\n",
    "This class handles both sparse and dense embeddings."
   ]
  },
  {
   "cell_type": "code",
   "execution_count": null,
   "id": "fec026bc",
   "metadata": {},
   "outputs": [],
   "source": [
    "class EmbeddingModels:\n",
    "    def __init__(self, sparse_model_name=SPARSE_MODEL_NAME, dense_model_name=DENSE_MODEL_NAME, batch_size=32):\n",
    "        \"\"\"Initialize embedding models.\"\"\"\n",
    "        self.batch_size = batch_size\n",
    "        print(f\"Loading sparse model: {sparse_model_name}\")\n",
    "        self.sparse_model = SparseTextEmbedding(model_name=sparse_model_name, batch_size=batch_size)\n",
    "        \n",
    "        print(f\"Loading dense model: {dense_model_name}\")\n",
    "        self.dense_model = TextEmbedding(model_name=dense_model_name, batch_size=batch_size)\n",
    "        \n",
    "    def get_sparse_embeddings(self, texts: list[str]) -> list[SparseEmbedding]:\n",
    "        \"\"\"Generate sparse embeddings for a list of texts.\"\"\"\n",
    "        return list(self.sparse_model.embed(texts, batch_size=self.batch_size))\n",
    "    \n",
    "    def get_dense_embeddings(self, texts: list[str]) -> list[np.ndarray]:\n",
    "        \"\"\"Generate dense embeddings for a list of texts.\"\"\"\n",
    "        return list(self.dense_model.embed(texts, batch_size=self.batch_size))\n",
    "        \n",
    "    def process_dataframe(self, df, text_column='text'):\n",
    "        \"\"\"Process a DataFrame to add sparse and dense embeddings.\"\"\"\n",
    "        texts = df[text_column].tolist()\n",
    "        \n",
    "        print(\"Generating sparse embeddings...\")\n",
    "        df[\"sparse_embedding\"] = self.get_sparse_embeddings(texts)\n",
    "        \n",
    "        print(\"Generating dense embeddings...\")\n",
    "        df[\"dense_embedding\"] = self.get_dense_embeddings(texts)\n",
    "        \n",
    "        return df"
   ]
  },
  {
   "cell_type": "markdown",
   "id": "433545db",
   "metadata": {},
   "source": [
    "## Usage Example\n",
    "\n",
    "Here's how to use the EmbeddingModels class:"
   ]
  },
  {
   "cell_type": "code",
   "execution_count": null,
   "id": "464a65a8",
   "metadata": {},
   "outputs": [],
   "source": [
    "import pandas as pd\n",
    "\n",
    "# Create a sample DataFrame\n",
    "sample_df = pd.DataFrame({\n",
    "    'id': [1, 2, 3],\n",
    "    'text': [\n",
    "        'A red Honda Civic with manual transmission',\n",
    "        'A blue Toyota Camry with automatic transmission',\n",
    "        'A black Ford Mustang with sports package'\n",
    "    ]\n",
    "})\n",
    "\n",
    "# Initialize embedding models\n",
    "embedding_models = EmbeddingModels()\n",
    "\n",
    "# Process the DataFrame\n",
    "processed_df = embedding_models.process_dataframe(sample_df)\n",
    "\n",
    "# Show the results\n",
    "print(\"\\nDataFrame with embeddings:\")\n",
    "print(processed_df.head())"
   ]
  }
 ],
 "metadata": {
  "language_info": {
   "name": "python"
  }
 },
 "nbformat": 4,
 "nbformat_minor": 5
}
